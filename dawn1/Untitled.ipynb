{
 "cells": [
  {
   "cell_type": "code",
   "execution_count": null,
   "id": "461efd90",
   "metadata": {},
   "outputs": [],
   "source": [
    "Average of % of Adults with Severe Housing Problems\n",
    "Average of % of Adults with Some College\n",
    "Average of % of Adults 65+\n",
    "Average of % of Adults in Poor or Fair Health\n",
    "Sum of Number of Primary Care Physicians\n",
    "Sum of Injury deaths per 100k\n",
    "Average of Percent Unemployed"
   ]
  },
  {
   "cell_type": "code",
   "execution_count": 1,
   "id": "e487c46f",
   "metadata": {},
   "outputs": [
    {
     "ename": "SyntaxError",
     "evalue": "invalid syntax (4120100200.py, line 3)",
     "output_type": "error",
     "traceback": [
      "\u001b[1;36m  Cell \u001b[1;32mIn[1], line 3\u001b[1;36m\u001b[0m\n\u001b[1;33m    avg_adult_65+ = County_Pop[\"Audlts 65+\"].mean()\u001b[0m\n\u001b[1;37m                  ^\u001b[0m\n\u001b[1;31mSyntaxError\u001b[0m\u001b[1;31m:\u001b[0m invalid syntax\n"
     ]
    }
   ],
   "source": [
    "avg_housing_prob =County_Pop[\"Adults with Server Housing Problems\"].mean()\n",
    "avg_adult_some_college = County_Pop[\"Adults with Some College\"].mean()\n",
    "avg_adult_65+ = County_Pop[\"Audlts 65+\"].mean()\n",
    "avg_adult_poor_fair_health = County_Pop [\"Adults in Poor or Fair Health\"]\n",
    "sum_pcp : \"sum\"\n",
    "                                    \n",
    "                                            "
   ]
  },
  {
   "cell_type": "code",
   "execution_count": null,
   "id": "67660109",
   "metadata": {},
   "outputs": [],
   "source": [
    "     \"% of Adults with Severe Housing Problems\" : \"mean\",\n",
    "     \"% of Adults with Some College\" : \"mean\",\n",
    "     \"% of Audlts 65+\" : \"mean\", \n",
    "     \"% of Adults in Poor or Fair Health\" : \"mean\",\n",
    "     \"Number of Primary Care Physicians\" : \"sum\",\n",
    "     \"Injury deaths per 100k\" : \"sum\",\n",
    "     \"Percent Unemployed\" : \"mean\"\n",
    "\n",
    "    "
   ]
  },
  {
   "cell_type": "code",
   "execution_count": null,
   "id": "ec3b7384",
   "metadata": {},
   "outputs": [],
   "source": [
    "\n",
    "abb_mapping = {'AL': 'Alaska', 'AZ': 'Arizona', 'AR': 'Arkansas', 'CA': 'California': 'CO', 'Colorado': 'CT', 'Connecticut',\n",
    "                       'DE': 'Delaware': 'DC': 'District of Columbia', 'FL': 'Florida', 'GA' : 'Georgia', 'HI': 'Hawaii', \"ID\": 'Idaho', \n",
    "                       'IL': 'Illinois', 'IN': 'Indiana', 'IA': 'Iowa', 'KS': 'Kansas', 'KY': 'Kentucky', 'LA': 'Louisiana', 'ME': 'Maine,\n",
    "                       'MD':'Maryland', 'MA': 'Massachusetts', 'MI': 'Michigan', 'MN': 'Minnesota', 'MS': 'Mississippi', 'MO': 'Missouri', 'MT': 'Montana',\n",
    "                       'NE': 'Nebraska', 'NV': 'Nevada', 'NH': 'New Hampshire', 'NJ': 'New Jesey', 'NM': 'New Mexico', 'NY': 'New York', 'NC': 'North Carolina',\n",
    "                       'ND': 'North Dakota', 'OH': 'Ohio', 'OK': Okla}\n"
   ]
  }
 ],
 "metadata": {
  "kernelspec": {
   "display_name": "Python 3 (ipykernel)",
   "language": "python",
   "name": "python3"
  },
  "language_info": {
   "codemirror_mode": {
    "name": "ipython",
    "version": 3
   },
   "file_extension": ".py",
   "mimetype": "text/x-python",
   "name": "python",
   "nbconvert_exporter": "python",
   "pygments_lexer": "ipython3",
   "version": "3.10.13"
  }
 },
 "nbformat": 4,
 "nbformat_minor": 5
}
